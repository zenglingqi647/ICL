{
 "cells": [
  {
   "cell_type": "code",
   "execution_count": 1,
   "metadata": {},
   "outputs": [],
   "source": [
    "%load_ext autoreload\n",
    "%autoreload 2\n",
    "import torch\n",
    "import torch.nn as nn\n",
    "import numpy as np\n",
    "from tqdm import trange\n",
    "\n",
    "from transformer_model import Transformer, SelfAttention, MLP"
   ]
  },
  {
   "cell_type": "code",
   "execution_count": 2,
   "metadata": {},
   "outputs": [],
   "source": [
    "dims = 5\n",
    "seq_len = 20"
   ]
  },
  {
   "cell_type": "code",
   "execution_count": 4,
   "metadata": {},
   "outputs": [],
   "source": [
    "def generate_data(batch_size, dims, seq_len):\n",
    "    w = np.random.normal(0, 1, size=(batch_size, dims))\n",
    "    x = np.random.normal(0, 1, size=(batch_size, seq_len, dims))\n",
    "    y = np.einsum(\"bp, blp -> bl\", w, x)\n",
    "    assert y.shape == (batch_size, seq_len)\n",
    "    interweaved = []\n",
    "    for b in range(batch_size):\n",
    "        batch = []\n",
    "        for s in range(seq_len):\n",
    "            batch.append(x[b, s, :])\n",
    "            batch.append(y[b, s, :])\n",
    "        interweaved.append(batch)\n",
    "    interweaved = np.array(interweaved)\n",
    "    interweaved = interweaved[:, :-1, :]\n",
    "    interweaved = torch.from_numpy(interweaved).to(torch.float)\n",
    "    return x, y, w, interweaved"
   ]
  },
  {
   "cell_type": "code",
   "execution_count": 5,
   "metadata": {},
   "outputs": [
    {
     "name": "stderr",
     "output_type": "stream",
     "text": [
      "  0%|          | 0/200 [00:00<?, ?it/s]\n"
     ]
    },
    {
     "ename": "ValueError",
     "evalue": "not enough values to unpack (expected 5, got 4)",
     "output_type": "error",
     "traceback": [
      "\u001b[0;31m---------------------------------------------------------------------------\u001b[0m",
      "\u001b[0;31mValueError\u001b[0m                                Traceback (most recent call last)",
      "\u001b[1;32m/Users/zekai.wang/Desktop/College/Berkeley_Course/2023FA/CS 182/project/ICL/initialization/test_transformer_model.ipynb Cell 4\u001b[0m line \u001b[0;36m1\n\u001b[1;32m      <a href='vscode-notebook-cell:/Users/zekai.wang/Desktop/College/Berkeley_Course/2023FA/CS%20182/project/ICL/initialization/test_transformer_model.ipynb#W3sZmlsZQ%3D%3D?line=7'>8</a>\u001b[0m optimizer \u001b[39m=\u001b[39m torch\u001b[39m.\u001b[39moptim\u001b[39m.\u001b[39mSGD(transformer\u001b[39m.\u001b[39mparameters(), lr\u001b[39m=\u001b[39m\u001b[39m0.01\u001b[39m)\n\u001b[1;32m      <a href='vscode-notebook-cell:/Users/zekai.wang/Desktop/College/Berkeley_Course/2023FA/CS%20182/project/ICL/initialization/test_transformer_model.ipynb#W3sZmlsZQ%3D%3D?line=8'>9</a>\u001b[0m \u001b[39mfor\u001b[39;00m _ \u001b[39min\u001b[39;00m trange(\u001b[39m200\u001b[39m):\n\u001b[0;32m---> <a href='vscode-notebook-cell:/Users/zekai.wang/Desktop/College/Berkeley_Course/2023FA/CS%20182/project/ICL/initialization/test_transformer_model.ipynb#W3sZmlsZQ%3D%3D?line=9'>10</a>\u001b[0m     x, y, w, interweaved, label \u001b[39m=\u001b[39m generate_data(\u001b[39m8\u001b[39m, dims, seq_len)\n\u001b[1;32m     <a href='vscode-notebook-cell:/Users/zekai.wang/Desktop/College/Berkeley_Course/2023FA/CS%20182/project/ICL/initialization/test_transformer_model.ipynb#W3sZmlsZQ%3D%3D?line=10'>11</a>\u001b[0m     output \u001b[39m=\u001b[39m transformer(interweaved)\n\u001b[1;32m     <a href='vscode-notebook-cell:/Users/zekai.wang/Desktop/College/Berkeley_Course/2023FA/CS%20182/project/ICL/initialization/test_transformer_model.ipynb#W3sZmlsZQ%3D%3D?line=11'>12</a>\u001b[0m     pred \u001b[39m=\u001b[39m output[:, \u001b[39m-\u001b[39m\u001b[39m1\u001b[39m, :]\n",
      "\u001b[0;31mValueError\u001b[0m: not enough values to unpack (expected 5, got 4)"
     ]
    }
   ],
   "source": [
    "transformer = Transformer(\n",
    "    num_layers=4,\n",
    "    input_dim=dims,\n",
    "    num_heads=1,\n",
    "    mlp_hidden_dim=16\n",
    ")\n",
    "\n",
    "optimizer = torch.optim.SGD(transformer.parameters(), lr=0.01)\n",
    "for _ in trange(200):\n",
    "    x, y, w, interweaved, label = generate_data(8, dims, seq_len)\n",
    "    output = transformer(interweaved)\n",
    "    pred = output[:, -1, :]\n",
    "    loss = torch.mean((pred - label) ** 2)\n",
    "    assert not torch.isnan(loss), loss\n",
    "    optimizer.zero_grad()\n",
    "    loss.backward()\n",
    "    optimizer.step()"
   ]
  },
  {
   "cell_type": "code",
   "execution_count": 6,
   "metadata": {},
   "outputs": [
    {
     "ename": "ValueError",
     "evalue": "not enough values to unpack (expected 5, got 4)",
     "output_type": "error",
     "traceback": [
      "\u001b[0;31m---------------------------------------------------------------------------\u001b[0m",
      "\u001b[0;31mValueError\u001b[0m                                Traceback (most recent call last)",
      "\u001b[1;32m/Users/zekai.wang/Desktop/College/Berkeley_Course/2023FA/CS 182/project/ICL/initialization/test_transformer_model.ipynb Cell 5\u001b[0m line \u001b[0;36m7\n\u001b[1;32m      <a href='vscode-notebook-cell:/Users/zekai.wang/Desktop/College/Berkeley_Course/2023FA/CS%20182/project/ICL/initialization/test_transformer_model.ipynb#W4sZmlsZQ%3D%3D?line=0'>1</a>\u001b[0m transformer \u001b[39m=\u001b[39m Transformer(\n\u001b[1;32m      <a href='vscode-notebook-cell:/Users/zekai.wang/Desktop/College/Berkeley_Course/2023FA/CS%20182/project/ICL/initialization/test_transformer_model.ipynb#W4sZmlsZQ%3D%3D?line=1'>2</a>\u001b[0m     num_layers\u001b[39m=\u001b[39m\u001b[39m4\u001b[39m,\n\u001b[1;32m      <a href='vscode-notebook-cell:/Users/zekai.wang/Desktop/College/Berkeley_Course/2023FA/CS%20182/project/ICL/initialization/test_transformer_model.ipynb#W4sZmlsZQ%3D%3D?line=2'>3</a>\u001b[0m     input_dim\u001b[39m=\u001b[39mdims,\n\u001b[1;32m      <a href='vscode-notebook-cell:/Users/zekai.wang/Desktop/College/Berkeley_Course/2023FA/CS%20182/project/ICL/initialization/test_transformer_model.ipynb#W4sZmlsZQ%3D%3D?line=3'>4</a>\u001b[0m     num_heads\u001b[39m=\u001b[39m\u001b[39m1\u001b[39m,\n\u001b[1;32m      <a href='vscode-notebook-cell:/Users/zekai.wang/Desktop/College/Berkeley_Course/2023FA/CS%20182/project/ICL/initialization/test_transformer_model.ipynb#W4sZmlsZQ%3D%3D?line=4'>5</a>\u001b[0m     mlp_hidden_dim\u001b[39m=\u001b[39m\u001b[39m16\u001b[39m\n\u001b[1;32m      <a href='vscode-notebook-cell:/Users/zekai.wang/Desktop/College/Berkeley_Course/2023FA/CS%20182/project/ICL/initialization/test_transformer_model.ipynb#W4sZmlsZQ%3D%3D?line=5'>6</a>\u001b[0m )\n\u001b[0;32m----> <a href='vscode-notebook-cell:/Users/zekai.wang/Desktop/College/Berkeley_Course/2023FA/CS%20182/project/ICL/initialization/test_transformer_model.ipynb#W4sZmlsZQ%3D%3D?line=6'>7</a>\u001b[0m x, y, w, interweaved, label \u001b[39m=\u001b[39m generate_data(\u001b[39m8\u001b[39m, dims, seq_len)\n\u001b[1;32m      <a href='vscode-notebook-cell:/Users/zekai.wang/Desktop/College/Berkeley_Course/2023FA/CS%20182/project/ICL/initialization/test_transformer_model.ipynb#W4sZmlsZQ%3D%3D?line=7'>8</a>\u001b[0m output \u001b[39m=\u001b[39m transformer(interweaved)\n\u001b[1;32m     <a href='vscode-notebook-cell:/Users/zekai.wang/Desktop/College/Berkeley_Course/2023FA/CS%20182/project/ICL/initialization/test_transformer_model.ipynb#W4sZmlsZQ%3D%3D?line=9'>10</a>\u001b[0m \u001b[39mprint\u001b[39m(output)\n",
      "\u001b[0;31mValueError\u001b[0m: not enough values to unpack (expected 5, got 4)"
     ]
    }
   ],
   "source": [
    "transformer = Transformer(\n",
    "    num_layers=4,\n",
    "    input_dim=dims,\n",
    "    num_heads=1,\n",
    "    mlp_hidden_dim=16\n",
    ")\n",
    "x, y, w, interweaved, label = generate_data(8, dims, seq_len)\n",
    "output = transformer(interweaved)\n",
    "\n",
    "print(output)"
   ]
  },
  {
   "cell_type": "code",
   "execution_count": 225,
   "metadata": {},
   "outputs": [
    {
     "name": "stdout",
     "output_type": "stream",
     "text": [
      "tensor([0.0033, 0.0093]) tensor([-0.3360,  0.1111]) tensor(0.0627)\n"
     ]
    }
   ],
   "source": [
    "transformer.eval()\n",
    "with torch.no_grad():\n",
    "    x, y, w, interweaved, label = generate_data(dims, seq_len)\n",
    "    pred = transformer(interweaved)[-1, :]\n",
    "    loss = torch.mean((pred - label) ** 2)\n",
    "    print(pred, label, loss)"
   ]
  },
  {
   "cell_type": "code",
   "execution_count": null,
   "metadata": {},
   "outputs": [],
   "source": []
  },
  {
   "cell_type": "code",
   "execution_count": null,
   "metadata": {},
   "outputs": [],
   "source": []
  }
 ],
 "metadata": {
  "kernelspec": {
   "display_name": "pytorch",
   "language": "python",
   "name": "python3"
  },
  "language_info": {
   "codemirror_mode": {
    "name": "ipython",
    "version": 3
   },
   "file_extension": ".py",
   "mimetype": "text/x-python",
   "name": "python",
   "nbconvert_exporter": "python",
   "pygments_lexer": "ipython3",
   "version": "3.11.4"
  }
 },
 "nbformat": 4,
 "nbformat_minor": 2
}
