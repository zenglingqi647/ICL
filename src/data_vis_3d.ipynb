{
 "cells": [
  {
   "cell_type": "code",
   "execution_count": 11,
   "metadata": {},
   "outputs": [],
   "source": [
    "import sys\n",
    "sys.path.append('/csproject/t3_lzengaf/lzengaf/ICL/src')"
   ]
  },
  {
   "cell_type": "code",
   "execution_count": 12,
   "metadata": {},
   "outputs": [],
   "source": [
    "from ood_data_gen import gen_opposite_orthant, gen_random_orthant\n",
    "from samplers import get_data_sampler, sample_transformation\n",
    "from tqdm import tqdm\n",
    "import plotly.graph_objects as go\n",
    "import numpy as np"
   ]
  },
  {
   "cell_type": "code",
   "execution_count": 13,
   "metadata": {},
   "outputs": [
    {
     "ename": "RuntimeError",
     "evalue": "The size of tensor a (20) must match the size of tensor b (6) at non-singleton dimension 2",
     "output_type": "error",
     "traceback": [
      "\u001b[0;31m---------------------------------------------------------------------------\u001b[0m",
      "\u001b[0;31mRuntimeError\u001b[0m                              Traceback (most recent call last)",
      "Cell \u001b[0;32mIn[13], line 12\u001b[0m\n\u001b[1;32m      2\u001b[0m task \u001b[38;5;241m=\u001b[39m \u001b[38;5;124m\"\u001b[39m\u001b[38;5;124mrandom_quadrants\u001b[39m\u001b[38;5;124m\"\u001b[39m\n\u001b[1;32m      3\u001b[0m func_dict \u001b[38;5;241m=\u001b[39m {\n\u001b[1;32m      4\u001b[0m     \u001b[38;5;66;03m# \"standard\": gen_standard,\u001b[39;00m\n\u001b[1;32m      5\u001b[0m     \u001b[38;5;124m\"\u001b[39m\u001b[38;5;124mopposite_quadrants\u001b[39m\u001b[38;5;124m\"\u001b[39m: gen_opposite_quadrants,\n\u001b[0;32m   (...)\u001b[0m\n\u001b[1;32m      9\u001b[0m     \u001b[38;5;66;03m# \"expansion\": gen_expansion\u001b[39;00m\n\u001b[1;32m     10\u001b[0m }\n\u001b[0;32m---> 12\u001b[0m xs, test_xs \u001b[38;5;241m=\u001b[39m \u001b[43mfunc_dict\u001b[49m\u001b[43m[\u001b[49m\u001b[43mtask\u001b[49m\u001b[43m]\u001b[49m\u001b[43m(\u001b[49m\u001b[43mdata_sampler\u001b[49m\u001b[43m,\u001b[49m\u001b[43m \u001b[49m\u001b[38;5;241;43m40\u001b[39;49m\u001b[43m,\u001b[49m\u001b[43m \u001b[49m\u001b[38;5;241;43m1\u001b[39;49m\u001b[43m,\u001b[49m\u001b[43m \u001b[49m\u001b[38;5;241;43m6\u001b[39;49m\u001b[43m)\u001b[49m\n\u001b[1;32m     14\u001b[0m max_range \u001b[38;5;241m=\u001b[39m \u001b[38;5;28mmax\u001b[39m(\u001b[38;5;28mabs\u001b[39m(xs[\u001b[38;5;241m.\u001b[39m\u001b[38;5;241m.\u001b[39m\u001b[38;5;241m.\u001b[39m, \u001b[38;5;241m0\u001b[39m]\u001b[38;5;241m.\u001b[39mmin()), \u001b[38;5;28mabs\u001b[39m(xs[\u001b[38;5;241m.\u001b[39m\u001b[38;5;241m.\u001b[39m\u001b[38;5;241m.\u001b[39m, \u001b[38;5;241m0\u001b[39m]\u001b[38;5;241m.\u001b[39mmax()), \u001b[38;5;28mabs\u001b[39m(xs[\u001b[38;5;241m.\u001b[39m\u001b[38;5;241m.\u001b[39m\u001b[38;5;241m.\u001b[39m, \u001b[38;5;241m1\u001b[39m]\u001b[38;5;241m.\u001b[39mmin()), \u001b[38;5;28mabs\u001b[39m(xs[\u001b[38;5;241m.\u001b[39m\u001b[38;5;241m.\u001b[39m\u001b[38;5;241m.\u001b[39m, \u001b[38;5;241m1\u001b[39m]\u001b[38;5;241m.\u001b[39mmax()),\n\u001b[1;32m     15\u001b[0m                 \u001b[38;5;28mabs\u001b[39m(xs[\u001b[38;5;241m.\u001b[39m\u001b[38;5;241m.\u001b[39m\u001b[38;5;241m.\u001b[39m, \u001b[38;5;241m2\u001b[39m]\u001b[38;5;241m.\u001b[39mmin()), \u001b[38;5;28mabs\u001b[39m(xs[\u001b[38;5;241m.\u001b[39m\u001b[38;5;241m.\u001b[39m\u001b[38;5;241m.\u001b[39m, \u001b[38;5;241m2\u001b[39m]\u001b[38;5;241m.\u001b[39mmax()), \u001b[38;5;28mabs\u001b[39m(test_xs[\u001b[38;5;241m.\u001b[39m\u001b[38;5;241m.\u001b[39m\u001b[38;5;241m.\u001b[39m, \u001b[38;5;241m0\u001b[39m]\u001b[38;5;241m.\u001b[39mmin()), \u001b[38;5;28mabs\u001b[39m(test_xs[\u001b[38;5;241m.\u001b[39m\u001b[38;5;241m.\u001b[39m\u001b[38;5;241m.\u001b[39m, \u001b[38;5;241m0\u001b[39m]\u001b[38;5;241m.\u001b[39mmax()),\n\u001b[1;32m     16\u001b[0m                 \u001b[38;5;28mabs\u001b[39m(test_xs[\u001b[38;5;241m.\u001b[39m\u001b[38;5;241m.\u001b[39m\u001b[38;5;241m.\u001b[39m, \u001b[38;5;241m1\u001b[39m]\u001b[38;5;241m.\u001b[39mmin()), \u001b[38;5;28mabs\u001b[39m(test_xs[\u001b[38;5;241m.\u001b[39m\u001b[38;5;241m.\u001b[39m\u001b[38;5;241m.\u001b[39m, \u001b[38;5;241m1\u001b[39m]\u001b[38;5;241m.\u001b[39mmax()), \u001b[38;5;28mabs\u001b[39m(test_xs[\u001b[38;5;241m.\u001b[39m\u001b[38;5;241m.\u001b[39m\u001b[38;5;241m.\u001b[39m, \u001b[38;5;241m2\u001b[39m]\u001b[38;5;241m.\u001b[39mmin()),\n\u001b[1;32m     17\u001b[0m                 \u001b[38;5;28mabs\u001b[39m(test_xs[\u001b[38;5;241m.\u001b[39m\u001b[38;5;241m.\u001b[39m\u001b[38;5;241m.\u001b[39m, \u001b[38;5;241m2\u001b[39m]\u001b[38;5;241m.\u001b[39mmax()))\n",
      "File \u001b[0;32m/csproject/t3_lzengaf/lzengaf/ICL/src/ood_data_gen.py:73\u001b[0m, in \u001b[0;36mgen_random_quadrants\u001b[0;34m(data_sampler, n_points, b_size, n_dims_truncated, seeds)\u001b[0m\n\u001b[1;32m     71\u001b[0m     pattern_test \u001b[38;5;241m=\u001b[39m torch\u001b[38;5;241m.\u001b[39msign(torch\u001b[38;5;241m.\u001b[39mrandn(\u001b[38;5;241m20\u001b[39m))\n\u001b[1;32m     72\u001b[0m     \u001b[38;5;28;01mwhile\u001b[39;00m torch\u001b[38;5;241m.\u001b[39mall(pattern_train[:n_dims_truncated] \u001b[38;5;241m==\u001b[39m pattern_test[:n_dims_truncated]):\n\u001b[0;32m---> 73\u001b[0m         pattern_test \u001b[38;5;241m=\u001b[39m torch\u001b[38;5;241m.\u001b[39msign(torch\u001b[38;5;241m.\u001b[39mrandn(\u001b[38;5;241m20\u001b[39m))\n\u001b[1;32m     74\u001b[0m     \u001b[38;5;28;01mreturn\u001b[39;00m xs_train\u001b[38;5;241m.\u001b[39mabs() \u001b[38;5;241m*\u001b[39m pattern_train, xs_test\u001b[38;5;241m.\u001b[39mabs() \u001b[38;5;241m*\u001b[39m pattern_test\n\u001b[1;32m     76\u001b[0m max_perm \u001b[38;5;241m=\u001b[39m \u001b[38;5;241m2\u001b[39m \u001b[38;5;241m*\u001b[39m n_points\n",
      "\u001b[0;31mRuntimeError\u001b[0m: The size of tensor a (20) must match the size of tensor b (6) at non-singleton dimension 2"
     ]
    }
   ],
   "source": [
    "data_sampler = get_data_sampler('gaussian', n_dims=20)\n",
    "task = \"random_orthant\"\n",
    "func_dict = {\n",
    "    # \"standard\": gen_standard,\n",
    "    \"opposite_orthant\": gen_opposite_orthant,\n",
    "    \"random_orthant\": gen_random_orthant,\n",
    "    # \"orthogonal\": gen_orthogonal,\n",
    "    # \"projection\": gen_projection,\n",
    "    # \"expansion\": gen_expansion\n",
    "}\n",
    "\n",
    "xs, test_xs = func_dict[task](data_sampler, 40, 1, 6)\n",
    "\n",
    "max_range = max(abs(xs[..., 0].min()), abs(xs[..., 0].max()), abs(xs[..., 1].min()), abs(xs[..., 1].max()),\n",
    "                abs(xs[..., 2].min()), abs(xs[..., 2].max()), abs(test_xs[..., 0].min()), abs(test_xs[..., 0].max()),\n",
    "                abs(test_xs[..., 1].min()), abs(test_xs[..., 1].max()), abs(test_xs[..., 2].min()),\n",
    "                abs(test_xs[..., 2].max()))"
   ]
  },
  {
   "cell_type": "code",
   "execution_count": null,
   "metadata": {},
   "outputs": [],
   "source": [
    "fig = go.Figure()\n",
    "\n",
    "# # Add scatter plot for train data\n",
    "fig.add_trace(\n",
    "    go.Scatter3d(x=xs[..., 0].flatten().numpy(),\n",
    "                 y=xs[..., 1].flatten().numpy(),\n",
    "                 z=xs[..., 2].flatten().numpy(),\n",
    "                 mode='markers',\n",
    "                 marker=dict(size=7, color='blue', opacity=0.6),\n",
    "                 name='Train Data'))\n",
    "\n",
    "# Add scatter plot for test data\n",
    "fig.add_trace(\n",
    "    go.Scatter3d(x=test_xs[..., 0].flatten().numpy(),\n",
    "                 y=test_xs[..., 1].flatten().numpy(),\n",
    "                 z=test_xs[..., 2].flatten().numpy(),\n",
    "                 mode='markers',\n",
    "                 marker=dict(size=7, color='red', opacity=0.6),\n",
    "                 name='Test Data'))\n",
    "\n",
    "fig.update_layout(title=f'Scatter Plot of Datasets for {task}',\n",
    "                  scene=dict(xaxis_title='dim 0',\n",
    "                             yaxis_title='dim 1',\n",
    "                             zaxis_title='dim 2',\n",
    "                             xaxis=dict(range=[-max_range - 0.1, max_range + 0.1]),\n",
    "                             yaxis=dict(range=[-max_range - 0.1, max_range + 0.1]),\n",
    "                             zaxis=dict(range=[-max_range - 0.1, max_range + 0.1]),\n",
    "                             camera=dict(eye=dict(x=2, y=2, z=1))),\n",
    "                  margin=dict(l=0, r=0, b=30, t=30))\n"
   ]
  },
  {
   "cell_type": "code",
   "execution_count": null,
   "metadata": {},
   "outputs": [],
   "source": [
    "# plot with surfaces splitting orthants\n",
    "x = np.linspace(-max_range - 0.1, max_range + 0.1, 10)\n",
    "y = np.linspace(-max_range - 0.1, max_range + 0.1, 10)\n",
    "z = np.linspace(-max_range - 0.1, max_range + 0.1, 10)\n",
    "\n",
    "xx, yy = np.meshgrid(x, y)\n",
    "zz = np.zeros_like(xx)\n",
    "fig.add_trace(go.Surface(x=xx, y=yy, z=zz, colorscale='gray', opacity=0.2, showscale=False))\n",
    "\n",
    "# Plane along dim 0 - dim 2 (y = 0)\n",
    "xx, zz = np.meshgrid(x, z)\n",
    "yy = np.zeros_like(xx)\n",
    "fig.add_trace(go.Surface(x=xx, y=yy, z=zz, colorscale='gray', opacity=0.2, showscale=False))\n",
    "\n",
    "# Plane along dim 1 - dim 2 (x = 0)\n",
    "yy, zz = np.meshgrid(y, z)\n",
    "xx = np.zeros_like(yy)\n",
    "fig.add_trace(go.Surface(x=xx, y=yy, z=zz, colorscale='gray', opacity=0.2, showscale=False))"
   ]
  }
 ],
 "metadata": {
  "kernelspec": {
   "display_name": "icl3",
   "language": "python",
   "name": "python3"
  },
  "language_info": {
   "codemirror_mode": {
    "name": "ipython",
    "version": 3
   },
   "file_extension": ".py",
   "mimetype": "text/x-python",
   "name": "python",
   "nbconvert_exporter": "python",
   "pygments_lexer": "ipython3",
   "version": "3.9.19"
  }
 },
 "nbformat": 4,
 "nbformat_minor": 2
}
