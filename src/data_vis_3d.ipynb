{
 "cells": [
  {
   "cell_type": "code",
   "execution_count": 11,
   "metadata": {},
   "outputs": [],
   "source": [
    "import sys\n",
    "sys.path.append('/csproject/t3_lzengaf/lzengaf/ICL/src')"
   ]
  },
  {
   "cell_type": "code",
   "execution_count": 12,
   "metadata": {},
   "outputs": [],
   "source": [
    "from ood_data_gen import gen_opposite_quadrants, gen_random_quadrants\n",
    "from samplers import get_data_sampler, sample_transformation\n",
    "from tqdm import tqdm\n",
    "import plotly.graph_objects as go\n",
    "import numpy as np"
   ]
  },
  {
   "cell_type": "code",
   "execution_count": 13,
   "metadata": {},
   "outputs": [],
   "source": [
    "data_sampler = get_data_sampler('gaussian', n_dims=20)\n",
    "task = \"random_quadrants\"\n",
    "func_dict = {\n",
    "    # \"standard\": gen_standard,\n",
    "    \"opposite_quadrants\": gen_opposite_quadrants,\n",
    "    \"random_quadrants\": gen_random_quadrants,\n",
    "    # \"orthogonal\": gen_orthogonal,\n",
    "    # \"projection\": gen_projection,\n",
    "    # \"expansion\": gen_expansion\n",
    "}\n",
    "\n",
    "xs, test_xs = func_dict[task](data_sampler, 40, 1, 6)\n",
    "\n",
    "max_range = max(abs(xs[..., 0].min()), abs(xs[..., 0].max()), abs(xs[..., 1].min()), abs(xs[..., 1].max()),\n",
    "                abs(xs[..., 2].min()), abs(xs[..., 2].max()), abs(test_xs[..., 0].min()), abs(test_xs[..., 0].max()),\n",
    "                abs(test_xs[..., 1].min()), abs(test_xs[..., 1].max()), abs(test_xs[..., 2].min()),\n",
    "                abs(test_xs[..., 2].max()))"
   ]
  },
  {
   "cell_type": "code",
   "execution_count": null,
   "metadata": {},
   "outputs": [],
   "source": [
    "fig = go.Figure()\n",
    "\n",
    "# # Add scatter plot for train data\n",
    "fig.add_trace(\n",
    "    go.Scatter3d(x=xs[..., 0].flatten().numpy(),\n",
    "                 y=xs[..., 1].flatten().numpy(),\n",
    "                 z=xs[..., 2].flatten().numpy(),\n",
    "                 mode='markers',\n",
    "                 marker=dict(size=7, color='blue', opacity=0.6),\n",
    "                 name='Train Data'))\n",
    "\n",
    "# Add scatter plot for test data\n",
    "fig.add_trace(\n",
    "    go.Scatter3d(x=test_xs[..., 0].flatten().numpy(),\n",
    "                 y=test_xs[..., 1].flatten().numpy(),\n",
    "                 z=test_xs[..., 2].flatten().numpy(),\n",
    "                 mode='markers',\n",
    "                 marker=dict(size=7, color='red', opacity=0.6),\n",
    "                 name='Test Data'))\n",
    "\n",
    "fig.update_layout(title=f'Scatter Plot of Datasets for {task}',\n",
    "                  scene=dict(xaxis_title='dim 0',\n",
    "                             yaxis_title='dim 1',\n",
    "                             zaxis_title='dim 2',\n",
    "                             xaxis=dict(range=[-max_range - 0.1, max_range + 0.1]),\n",
    "                             yaxis=dict(range=[-max_range - 0.1, max_range + 0.1]),\n",
    "                             zaxis=dict(range=[-max_range - 0.1, max_range + 0.1]),\n",
    "                             camera=dict(eye=dict(x=2, y=2, z=1))),\n",
    "                  margin=dict(l=0, r=0, b=30, t=30))\n"
   ]
  },
  {
   "cell_type": "code",
   "execution_count": null,
   "metadata": {},
   "outputs": [],
   "source": [
    "# plot with surfaces splitting orthants\n",
    "x = np.linspace(-max_range - 0.1, max_range + 0.1, 10)\n",
    "y = np.linspace(-max_range - 0.1, max_range + 0.1, 10)\n",
    "z = np.linspace(-max_range - 0.1, max_range + 0.1, 10)\n",
    "\n",
    "xx, yy = np.meshgrid(x, y)\n",
    "zz = np.zeros_like(xx)\n",
    "fig.add_trace(go.Surface(x=xx, y=yy, z=zz, colorscale='gray', opacity=0.2, showscale=False))\n",
    "\n",
    "# Plane along dim 0 - dim 2 (y = 0)\n",
    "xx, zz = np.meshgrid(x, z)\n",
    "yy = np.zeros_like(xx)\n",
    "fig.add_trace(go.Surface(x=xx, y=yy, z=zz, colorscale='gray', opacity=0.2, showscale=False))\n",
    "\n",
    "# Plane along dim 1 - dim 2 (x = 0)\n",
    "yy, zz = np.meshgrid(y, z)\n",
    "xx = np.zeros_like(yy)\n",
    "fig.add_trace(go.Surface(x=xx, y=yy, z=zz, colorscale='gray', opacity=0.2, showscale=False))"
   ]
  }
 ],
 "metadata": {
  "kernelspec": {
   "display_name": "icl3",
   "language": "python",
   "name": "python3"
  },
  "language_info": {
   "codemirror_mode": {
    "name": "ipython",
    "version": 3
   },
   "file_extension": ".py",
   "mimetype": "text/x-python",
   "name": "python",
   "nbconvert_exporter": "python",
   "pygments_lexer": "ipython3",
   "version": "3.9.19"
  }
 },
 "nbformat": 4,
 "nbformat_minor": 2
}
